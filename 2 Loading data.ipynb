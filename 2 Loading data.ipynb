{
 "cells": [
  {
   "cell_type": "markdown",
   "metadata": {},
   "source": [
    "# Loading and playing with data"
   ]
  },
  {
   "cell_type": "markdown",
   "metadata": {},
   "source": [
    "Pandas is one of the most popular data processing libraries in python"
   ]
  },
  {
   "cell_type": "code",
   "execution_count": 68,
   "metadata": {
    "collapsed": false
   },
   "outputs": [],
   "source": [
    "import pandas as p\n",
    "import numpy as np\n",
    "%matplotlib inline\n",
    "import warnings\n",
    "warnings.filterwarnings('ignore')"
   ]
  },
  {
   "cell_type": "code",
   "execution_count": 21,
   "metadata": {
    "collapsed": true
   },
   "outputs": [],
   "source": [
    "olympia = p.read_csv(\"olympia.csv\")"
   ]
  },
  {
   "cell_type": "markdown",
   "metadata": {},
   "source": [
    "Let's take a look"
   ]
  },
  {
   "cell_type": "code",
   "execution_count": 22,
   "metadata": {
    "collapsed": false
   },
   "outputs": [
    {
     "data": {
      "text/html": [
       "<div>\n",
       "<table border=\"1\" class=\"dataframe\">\n",
       "  <thead>\n",
       "    <tr style=\"text-align: right;\">\n",
       "      <th></th>\n",
       "      <th>country</th>\n",
       "      <th>iso3</th>\n",
       "      <th>year</th>\n",
       "      <th>medals</th>\n",
       "      <th>host</th>\n",
       "      <th>gdp_cap</th>\n",
       "      <th>pop</th>\n",
       "      <th>region</th>\n",
       "      <th>continent</th>\n",
       "      <th>geographic area</th>\n",
       "      <th>...</th>\n",
       "      <th>population growth rate</th>\n",
       "      <th>life expectancy at birth</th>\n",
       "      <th>net migration rate</th>\n",
       "      <th>obesity</th>\n",
       "      <th>education expenditures</th>\n",
       "      <th>health expenditures</th>\n",
       "      <th>electricity consumption</th>\n",
       "      <th>oil imports</th>\n",
       "      <th>internet users</th>\n",
       "      <th>military expenditures</th>\n",
       "    </tr>\n",
       "  </thead>\n",
       "  <tbody>\n",
       "    <tr>\n",
       "      <th>0</th>\n",
       "      <td>Afghanistan</td>\n",
       "      <td>AFG</td>\n",
       "      <td>2008</td>\n",
       "      <td>1</td>\n",
       "      <td>0</td>\n",
       "      <td>1283.041016</td>\n",
       "      <td>26528741</td>\n",
       "      <td>3</td>\n",
       "      <td>3</td>\n",
       "      <td>647500.0</td>\n",
       "      <td>...</td>\n",
       "      <td>2.626</td>\n",
       "      <td>44.21</td>\n",
       "      <td>21.00</td>\n",
       "      <td>NaN</td>\n",
       "      <td>NaN</td>\n",
       "      <td>NaN</td>\n",
       "      <td>1.088000e+09</td>\n",
       "      <td>4534.0</td>\n",
       "      <td>580000.0</td>\n",
       "      <td>1.90</td>\n",
       "    </tr>\n",
       "    <tr>\n",
       "      <th>1</th>\n",
       "      <td>Afghanistan</td>\n",
       "      <td>AFG</td>\n",
       "      <td>2012</td>\n",
       "      <td>1</td>\n",
       "      <td>0</td>\n",
       "      <td>1933.396240</td>\n",
       "      <td>29726803</td>\n",
       "      <td>3</td>\n",
       "      <td>3</td>\n",
       "      <td>652230.0</td>\n",
       "      <td>...</td>\n",
       "      <td>2.220</td>\n",
       "      <td>49.72</td>\n",
       "      <td>-2.51</td>\n",
       "      <td>NaN</td>\n",
       "      <td>NaN</td>\n",
       "      <td>7.4</td>\n",
       "      <td>2.226000e+09</td>\n",
       "      <td>NaN</td>\n",
       "      <td>1000000.0</td>\n",
       "      <td>1.90</td>\n",
       "    </tr>\n",
       "    <tr>\n",
       "      <th>2</th>\n",
       "      <td>Afghanistan</td>\n",
       "      <td>AFG</td>\n",
       "      <td>2016</td>\n",
       "      <td>0</td>\n",
       "      <td>0</td>\n",
       "      <td>1922.013916</td>\n",
       "      <td>33517518</td>\n",
       "      <td>3</td>\n",
       "      <td>3</td>\n",
       "      <td>652230.0</td>\n",
       "      <td>...</td>\n",
       "      <td>2.290</td>\n",
       "      <td>50.49</td>\n",
       "      <td>-1.83</td>\n",
       "      <td>2.2</td>\n",
       "      <td>NaN</td>\n",
       "      <td>9.6</td>\n",
       "      <td>2.489000e+09</td>\n",
       "      <td>NaN</td>\n",
       "      <td>1000000.0</td>\n",
       "      <td>4.74</td>\n",
       "    </tr>\n",
       "  </tbody>\n",
       "</table>\n",
       "<p>3 rows × 27 columns</p>\n",
       "</div>"
      ],
      "text/plain": [
       "       country iso3  year  medals  host      gdp_cap       pop  region  \\\n",
       "0  Afghanistan  AFG  2008       1     0  1283.041016  26528741       3   \n",
       "1  Afghanistan  AFG  2012       1     0  1933.396240  29726803       3   \n",
       "2  Afghanistan  AFG  2016       0     0  1922.013916  33517518       3   \n",
       "\n",
       "   continent  geographic area          ...            population growth rate  \\\n",
       "0          3         647500.0          ...                             2.626   \n",
       "1          3         652230.0          ...                             2.220   \n",
       "2          3         652230.0          ...                             2.290   \n",
       "\n",
       "   life expectancy at birth  net migration rate  obesity  \\\n",
       "0                     44.21               21.00      NaN   \n",
       "1                     49.72               -2.51      NaN   \n",
       "2                     50.49               -1.83      2.2   \n",
       "\n",
       "   education expenditures  health expenditures  electricity consumption  \\\n",
       "0                     NaN                  NaN             1.088000e+09   \n",
       "1                     NaN                  7.4             2.226000e+09   \n",
       "2                     NaN                  9.6             2.489000e+09   \n",
       "\n",
       "   oil imports  internet users  military expenditures  \n",
       "0       4534.0        580000.0                   1.90  \n",
       "1          NaN       1000000.0                   1.90  \n",
       "2          NaN       1000000.0                   4.74  \n",
       "\n",
       "[3 rows x 27 columns]"
      ]
     },
     "execution_count": 22,
     "metadata": {},
     "output_type": "execute_result"
    }
   ],
   "source": [
    "olympia[:3]"
   ]
  },
  {
   "cell_type": "markdown",
   "metadata": {},
   "source": [
    "What columns are there? "
   ]
  },
  {
   "cell_type": "code",
   "execution_count": 23,
   "metadata": {
    "collapsed": false
   },
   "outputs": [
    {
     "data": {
      "text/plain": [
       "Index(['country', 'iso3', 'year', 'medals', 'host', 'gdp_cap', 'pop', 'region',\n",
       "       'continent', 'geographic area', 'exports', 'gdp growth rate',\n",
       "       'gdp per capita', 'inflation rate', 'unemployment rate',\n",
       "       'gross national saving', 'public debt', 'population growth rate',\n",
       "       'life expectancy at birth', 'net migration rate', 'obesity',\n",
       "       'education expenditures', 'health expenditures',\n",
       "       'electricity consumption', 'oil imports', 'internet users',\n",
       "       'military expenditures'],\n",
       "      dtype='object')"
      ]
     },
     "execution_count": 23,
     "metadata": {},
     "output_type": "execute_result"
    }
   ],
   "source": [
    "olympia.columns"
   ]
  },
  {
   "cell_type": "code",
   "execution_count": 69,
   "metadata": {
    "collapsed": false
   },
   "outputs": [
    {
     "data": {
      "text/html": [
       "<div>\n",
       "<table border=\"1\" class=\"dataframe\">\n",
       "  <thead>\n",
       "    <tr style=\"text-align: right;\">\n",
       "      <th></th>\n",
       "      <th>year</th>\n",
       "      <th>medals</th>\n",
       "      <th>host</th>\n",
       "      <th>gdp_cap</th>\n",
       "      <th>pop</th>\n",
       "      <th>region</th>\n",
       "      <th>continent</th>\n",
       "      <th>geographic area</th>\n",
       "      <th>exports</th>\n",
       "      <th>gdp growth rate</th>\n",
       "      <th>...</th>\n",
       "      <th>population growth rate</th>\n",
       "      <th>life expectancy at birth</th>\n",
       "      <th>net migration rate</th>\n",
       "      <th>obesity</th>\n",
       "      <th>education expenditures</th>\n",
       "      <th>health expenditures</th>\n",
       "      <th>electricity consumption</th>\n",
       "      <th>oil imports</th>\n",
       "      <th>internet users</th>\n",
       "      <th>military expenditures</th>\n",
       "    </tr>\n",
       "  </thead>\n",
       "  <tbody>\n",
       "    <tr>\n",
       "      <th>count</th>\n",
       "      <td>1040.000000</td>\n",
       "      <td>1040.000000</td>\n",
       "      <td>1040.000000</td>\n",
       "      <td>1040.000000</td>\n",
       "      <td>1.040000e+03</td>\n",
       "      <td>1040.000000</td>\n",
       "      <td>1040.000000</td>\n",
       "      <td>8.390000e+02</td>\n",
       "      <td>8.390000e+02</td>\n",
       "      <td>837.000000</td>\n",
       "      <td>...</td>\n",
       "      <td>836.000000</td>\n",
       "      <td>837.000000</td>\n",
       "      <td>778.000000</td>\n",
       "      <td>248.000000</td>\n",
       "      <td>474.000000</td>\n",
       "      <td>354.000000</td>\n",
       "      <td>8.320000e+02</td>\n",
       "      <td>3.560000e+02</td>\n",
       "      <td>7.070000e+02</td>\n",
       "      <td>726.000000</td>\n",
       "    </tr>\n",
       "    <tr>\n",
       "      <th>mean</th>\n",
       "      <td>2006.373077</td>\n",
       "      <td>5.133654</td>\n",
       "      <td>0.005769</td>\n",
       "      <td>14949.160838</td>\n",
       "      <td>3.654434e+07</td>\n",
       "      <td>3.776923</td>\n",
       "      <td>2.556731</td>\n",
       "      <td>6.681691e+05</td>\n",
       "      <td>7.056697e+10</td>\n",
       "      <td>3.836918</td>\n",
       "      <td>...</td>\n",
       "      <td>1.279126</td>\n",
       "      <td>68.093226</td>\n",
       "      <td>-0.236542</td>\n",
       "      <td>17.870161</td>\n",
       "      <td>4.854641</td>\n",
       "      <td>6.961582</td>\n",
       "      <td>8.641631e+10</td>\n",
       "      <td>4.914180e+05</td>\n",
       "      <td>7.785584e+06</td>\n",
       "      <td>2.347383</td>\n",
       "    </tr>\n",
       "    <tr>\n",
       "      <th>std</th>\n",
       "      <td>6.738855</td>\n",
       "      <td>13.693202</td>\n",
       "      <td>0.075772</td>\n",
       "      <td>17655.912801</td>\n",
       "      <td>1.363537e+08</td>\n",
       "      <td>1.720691</td>\n",
       "      <td>1.261197</td>\n",
       "      <td>1.870828e+06</td>\n",
       "      <td>1.997244e+11</td>\n",
       "      <td>5.582460</td>\n",
       "      <td>...</td>\n",
       "      <td>1.129524</td>\n",
       "      <td>11.100898</td>\n",
       "      <td>6.003217</td>\n",
       "      <td>11.220167</td>\n",
       "      <td>2.233502</td>\n",
       "      <td>2.867122</td>\n",
       "      <td>3.903573e+11</td>\n",
       "      <td>1.278276e+06</td>\n",
       "      <td>3.018210e+07</td>\n",
       "      <td>2.059568</td>\n",
       "    </tr>\n",
       "    <tr>\n",
       "      <th>min</th>\n",
       "      <td>1996.000000</td>\n",
       "      <td>0.000000</td>\n",
       "      <td>0.000000</td>\n",
       "      <td>337.704864</td>\n",
       "      <td>1.980500e+04</td>\n",
       "      <td>1.000000</td>\n",
       "      <td>1.000000</td>\n",
       "      <td>5.330000e+01</td>\n",
       "      <td>1.000000e+06</td>\n",
       "      <td>-21.800000</td>\n",
       "      <td>...</td>\n",
       "      <td>-1.140000</td>\n",
       "      <td>30.760000</td>\n",
       "      <td>-33.420000</td>\n",
       "      <td>0.500000</td>\n",
       "      <td>0.600000</td>\n",
       "      <td>1.900000</td>\n",
       "      <td>9.300000e+06</td>\n",
       "      <td>1.000000e-02</td>\n",
       "      <td>1.000000e+03</td>\n",
       "      <td>0.000000</td>\n",
       "    </tr>\n",
       "    <tr>\n",
       "      <th>25%</th>\n",
       "      <td>2000.000000</td>\n",
       "      <td>0.000000</td>\n",
       "      <td>0.000000</td>\n",
       "      <td>2821.638671</td>\n",
       "      <td>2.063858e+06</td>\n",
       "      <td>2.000000</td>\n",
       "      <td>1.000000</td>\n",
       "      <td>NaN</td>\n",
       "      <td>NaN</td>\n",
       "      <td>NaN</td>\n",
       "      <td>...</td>\n",
       "      <td>NaN</td>\n",
       "      <td>NaN</td>\n",
       "      <td>NaN</td>\n",
       "      <td>NaN</td>\n",
       "      <td>NaN</td>\n",
       "      <td>NaN</td>\n",
       "      <td>NaN</td>\n",
       "      <td>NaN</td>\n",
       "      <td>NaN</td>\n",
       "      <td>NaN</td>\n",
       "    </tr>\n",
       "    <tr>\n",
       "      <th>50%</th>\n",
       "      <td>2008.000000</td>\n",
       "      <td>0.000000</td>\n",
       "      <td>0.000000</td>\n",
       "      <td>8442.654785</td>\n",
       "      <td>7.191664e+06</td>\n",
       "      <td>4.000000</td>\n",
       "      <td>3.000000</td>\n",
       "      <td>NaN</td>\n",
       "      <td>NaN</td>\n",
       "      <td>NaN</td>\n",
       "      <td>...</td>\n",
       "      <td>NaN</td>\n",
       "      <td>NaN</td>\n",
       "      <td>NaN</td>\n",
       "      <td>NaN</td>\n",
       "      <td>NaN</td>\n",
       "      <td>NaN</td>\n",
       "      <td>NaN</td>\n",
       "      <td>NaN</td>\n",
       "      <td>NaN</td>\n",
       "      <td>NaN</td>\n",
       "    </tr>\n",
       "    <tr>\n",
       "      <th>75%</th>\n",
       "      <td>2012.000000</td>\n",
       "      <td>4.000000</td>\n",
       "      <td>0.000000</td>\n",
       "      <td>21303.254885</td>\n",
       "      <td>2.327494e+07</td>\n",
       "      <td>5.000000</td>\n",
       "      <td>4.000000</td>\n",
       "      <td>NaN</td>\n",
       "      <td>NaN</td>\n",
       "      <td>NaN</td>\n",
       "      <td>...</td>\n",
       "      <td>NaN</td>\n",
       "      <td>NaN</td>\n",
       "      <td>NaN</td>\n",
       "      <td>NaN</td>\n",
       "      <td>NaN</td>\n",
       "      <td>NaN</td>\n",
       "      <td>NaN</td>\n",
       "      <td>NaN</td>\n",
       "      <td>NaN</td>\n",
       "      <td>NaN</td>\n",
       "    </tr>\n",
       "    <tr>\n",
       "      <th>max</th>\n",
       "      <td>2016.000000</td>\n",
       "      <td>121.000000</td>\n",
       "      <td>1.000000</td>\n",
       "      <td>146320.609400</td>\n",
       "      <td>1.378050e+09</td>\n",
       "      <td>6.000000</td>\n",
       "      <td>5.000000</td>\n",
       "      <td>1.709824e+07</td>\n",
       "      <td>2.210000e+12</td>\n",
       "      <td>121.900000</td>\n",
       "      <td>...</td>\n",
       "      <td>9.370000</td>\n",
       "      <td>84.460000</td>\n",
       "      <td>83.820000</td>\n",
       "      <td>57.600000</td>\n",
       "      <td>17.800000</td>\n",
       "      <td>19.500000</td>\n",
       "      <td>5.320000e+12</td>\n",
       "      <td>1.371000e+07</td>\n",
       "      <td>3.890000e+08</td>\n",
       "      <td>20.200000</td>\n",
       "    </tr>\n",
       "  </tbody>\n",
       "</table>\n",
       "<p>8 rows × 25 columns</p>\n",
       "</div>"
      ],
      "text/plain": [
       "              year       medals         host        gdp_cap           pop  \\\n",
       "count  1040.000000  1040.000000  1040.000000    1040.000000  1.040000e+03   \n",
       "mean   2006.373077     5.133654     0.005769   14949.160838  3.654434e+07   \n",
       "std       6.738855    13.693202     0.075772   17655.912801  1.363537e+08   \n",
       "min    1996.000000     0.000000     0.000000     337.704864  1.980500e+04   \n",
       "25%    2000.000000     0.000000     0.000000    2821.638671  2.063858e+06   \n",
       "50%    2008.000000     0.000000     0.000000    8442.654785  7.191664e+06   \n",
       "75%    2012.000000     4.000000     0.000000   21303.254885  2.327494e+07   \n",
       "max    2016.000000   121.000000     1.000000  146320.609400  1.378050e+09   \n",
       "\n",
       "            region    continent  geographic area       exports  \\\n",
       "count  1040.000000  1040.000000     8.390000e+02  8.390000e+02   \n",
       "mean      3.776923     2.556731     6.681691e+05  7.056697e+10   \n",
       "std       1.720691     1.261197     1.870828e+06  1.997244e+11   \n",
       "min       1.000000     1.000000     5.330000e+01  1.000000e+06   \n",
       "25%       2.000000     1.000000              NaN           NaN   \n",
       "50%       4.000000     3.000000              NaN           NaN   \n",
       "75%       5.000000     4.000000              NaN           NaN   \n",
       "max       6.000000     5.000000     1.709824e+07  2.210000e+12   \n",
       "\n",
       "       gdp growth rate          ...            population growth rate  \\\n",
       "count       837.000000          ...                        836.000000   \n",
       "mean          3.836918          ...                          1.279126   \n",
       "std           5.582460          ...                          1.129524   \n",
       "min         -21.800000          ...                         -1.140000   \n",
       "25%                NaN          ...                               NaN   \n",
       "50%                NaN          ...                               NaN   \n",
       "75%                NaN          ...                               NaN   \n",
       "max         121.900000          ...                          9.370000   \n",
       "\n",
       "       life expectancy at birth  net migration rate     obesity  \\\n",
       "count                837.000000          778.000000  248.000000   \n",
       "mean                  68.093226           -0.236542   17.870161   \n",
       "std                   11.100898            6.003217   11.220167   \n",
       "min                   30.760000          -33.420000    0.500000   \n",
       "25%                         NaN                 NaN         NaN   \n",
       "50%                         NaN                 NaN         NaN   \n",
       "75%                         NaN                 NaN         NaN   \n",
       "max                   84.460000           83.820000   57.600000   \n",
       "\n",
       "       education expenditures  health expenditures  electricity consumption  \\\n",
       "count              474.000000           354.000000             8.320000e+02   \n",
       "mean                 4.854641             6.961582             8.641631e+10   \n",
       "std                  2.233502             2.867122             3.903573e+11   \n",
       "min                  0.600000             1.900000             9.300000e+06   \n",
       "25%                       NaN                  NaN                      NaN   \n",
       "50%                       NaN                  NaN                      NaN   \n",
       "75%                       NaN                  NaN                      NaN   \n",
       "max                 17.800000            19.500000             5.320000e+12   \n",
       "\n",
       "        oil imports  internet users  military expenditures  \n",
       "count  3.560000e+02    7.070000e+02             726.000000  \n",
       "mean   4.914180e+05    7.785584e+06               2.347383  \n",
       "std    1.278276e+06    3.018210e+07               2.059568  \n",
       "min    1.000000e-02    1.000000e+03               0.000000  \n",
       "25%             NaN             NaN                    NaN  \n",
       "50%             NaN             NaN                    NaN  \n",
       "75%             NaN             NaN                    NaN  \n",
       "max    1.371000e+07    3.890000e+08              20.200000  \n",
       "\n",
       "[8 rows x 25 columns]"
      ]
     },
     "execution_count": 69,
     "metadata": {},
     "output_type": "execute_result"
    }
   ],
   "source": [
    "olympia.describe()"
   ]
  },
  {
   "cell_type": "markdown",
   "metadata": {},
   "source": [
    "## selecting data"
   ]
  },
  {
   "cell_type": "markdown",
   "metadata": {},
   "source": [
    "get subset of 2nd and 3rd item in dataset"
   ]
  },
  {
   "cell_type": "code",
   "execution_count": 25,
   "metadata": {
    "collapsed": false
   },
   "outputs": [
    {
     "data": {
      "text/html": [
       "<div>\n",
       "<table border=\"1\" class=\"dataframe\">\n",
       "  <thead>\n",
       "    <tr style=\"text-align: right;\">\n",
       "      <th></th>\n",
       "      <th>country</th>\n",
       "      <th>iso3</th>\n",
       "      <th>year</th>\n",
       "      <th>medals</th>\n",
       "      <th>host</th>\n",
       "      <th>gdp_cap</th>\n",
       "      <th>pop</th>\n",
       "      <th>region</th>\n",
       "      <th>continent</th>\n",
       "      <th>geographic area</th>\n",
       "      <th>...</th>\n",
       "      <th>population growth rate</th>\n",
       "      <th>life expectancy at birth</th>\n",
       "      <th>net migration rate</th>\n",
       "      <th>obesity</th>\n",
       "      <th>education expenditures</th>\n",
       "      <th>health expenditures</th>\n",
       "      <th>electricity consumption</th>\n",
       "      <th>oil imports</th>\n",
       "      <th>internet users</th>\n",
       "      <th>military expenditures</th>\n",
       "    </tr>\n",
       "  </thead>\n",
       "  <tbody>\n",
       "    <tr>\n",
       "      <th>2</th>\n",
       "      <td>Afghanistan</td>\n",
       "      <td>AFG</td>\n",
       "      <td>2016</td>\n",
       "      <td>0</td>\n",
       "      <td>0</td>\n",
       "      <td>1922.013916</td>\n",
       "      <td>33517518</td>\n",
       "      <td>3</td>\n",
       "      <td>3</td>\n",
       "      <td>652230.0</td>\n",
       "      <td>...</td>\n",
       "      <td>2.29</td>\n",
       "      <td>50.49</td>\n",
       "      <td>-1.83</td>\n",
       "      <td>2.2</td>\n",
       "      <td>NaN</td>\n",
       "      <td>9.6</td>\n",
       "      <td>2.489000e+09</td>\n",
       "      <td>NaN</td>\n",
       "      <td>1000000.0</td>\n",
       "      <td>4.74</td>\n",
       "    </tr>\n",
       "    <tr>\n",
       "      <th>3</th>\n",
       "      <td>Albania</td>\n",
       "      <td>ALB</td>\n",
       "      <td>1996</td>\n",
       "      <td>0</td>\n",
       "      <td>0</td>\n",
       "      <td>3140.040283</td>\n",
       "      <td>3168033</td>\n",
       "      <td>2</td>\n",
       "      <td>4</td>\n",
       "      <td>NaN</td>\n",
       "      <td>...</td>\n",
       "      <td>NaN</td>\n",
       "      <td>NaN</td>\n",
       "      <td>NaN</td>\n",
       "      <td>NaN</td>\n",
       "      <td>NaN</td>\n",
       "      <td>NaN</td>\n",
       "      <td>NaN</td>\n",
       "      <td>NaN</td>\n",
       "      <td>NaN</td>\n",
       "      <td>NaN</td>\n",
       "    </tr>\n",
       "  </tbody>\n",
       "</table>\n",
       "<p>2 rows × 27 columns</p>\n",
       "</div>"
      ],
      "text/plain": [
       "       country iso3  year  medals  host      gdp_cap       pop  region  \\\n",
       "2  Afghanistan  AFG  2016       0     0  1922.013916  33517518       3   \n",
       "3      Albania  ALB  1996       0     0  3140.040283   3168033       2   \n",
       "\n",
       "   continent  geographic area          ...            population growth rate  \\\n",
       "2          3         652230.0          ...                              2.29   \n",
       "3          4              NaN          ...                               NaN   \n",
       "\n",
       "   life expectancy at birth  net migration rate  obesity  \\\n",
       "2                     50.49               -1.83      2.2   \n",
       "3                       NaN                 NaN      NaN   \n",
       "\n",
       "   education expenditures  health expenditures  electricity consumption  \\\n",
       "2                     NaN                  9.6             2.489000e+09   \n",
       "3                     NaN                  NaN                      NaN   \n",
       "\n",
       "   oil imports  internet users  military expenditures  \n",
       "2          NaN       1000000.0                   4.74  \n",
       "3          NaN             NaN                    NaN  \n",
       "\n",
       "[2 rows x 27 columns]"
      ]
     },
     "execution_count": 25,
     "metadata": {},
     "output_type": "execute_result"
    }
   ],
   "source": [
    "olympia[2:4]"
   ]
  },
  {
   "cell_type": "code",
   "execution_count": 60,
   "metadata": {
    "collapsed": false
   },
   "outputs": [
    {
     "data": {
      "text/html": [
       "<div>\n",
       "<table border=\"1\" class=\"dataframe\">\n",
       "  <thead>\n",
       "    <tr style=\"text-align: right;\">\n",
       "      <th></th>\n",
       "      <th>country</th>\n",
       "      <th>iso3</th>\n",
       "    </tr>\n",
       "  </thead>\n",
       "  <tbody>\n",
       "    <tr>\n",
       "      <th>0</th>\n",
       "      <td>Afghanistan</td>\n",
       "      <td>AFG</td>\n",
       "    </tr>\n",
       "    <tr>\n",
       "      <th>1</th>\n",
       "      <td>Afghanistan</td>\n",
       "      <td>AFG</td>\n",
       "    </tr>\n",
       "    <tr>\n",
       "      <th>2</th>\n",
       "      <td>Afghanistan</td>\n",
       "      <td>AFG</td>\n",
       "    </tr>\n",
       "    <tr>\n",
       "      <th>3</th>\n",
       "      <td>Albania</td>\n",
       "      <td>ALB</td>\n",
       "    </tr>\n",
       "  </tbody>\n",
       "</table>\n",
       "</div>"
      ],
      "text/plain": [
       "       country iso3\n",
       "0  Afghanistan  AFG\n",
       "1  Afghanistan  AFG\n",
       "2  Afghanistan  AFG\n",
       "3      Albania  ALB"
      ]
     },
     "execution_count": 60,
     "metadata": {},
     "output_type": "execute_result"
    }
   ],
   "source": [
    "olympia[[\"country\", \"iso3\"]][:4]"
   ]
  },
  {
   "cell_type": "code",
   "execution_count": 33,
   "metadata": {
    "collapsed": false
   },
   "outputs": [
    {
     "name": "stdout",
     "output_type": "stream",
     "text": [
      "there are 1040 entries in our dataset\n"
     ]
    }
   ],
   "source": [
    "print(\"there are %i entries in our dataset\" % len(olympia))"
   ]
  },
  {
   "cell_type": "markdown",
   "metadata": {},
   "source": [
    "Let's look at Switzerland"
   ]
  },
  {
   "cell_type": "code",
   "execution_count": 27,
   "metadata": {
    "collapsed": false
   },
   "outputs": [
    {
     "data": {
      "text/html": [
       "<div>\n",
       "<table border=\"1\" class=\"dataframe\">\n",
       "  <thead>\n",
       "    <tr style=\"text-align: right;\">\n",
       "      <th></th>\n",
       "      <th>country</th>\n",
       "      <th>iso3</th>\n",
       "      <th>year</th>\n",
       "      <th>medals</th>\n",
       "      <th>host</th>\n",
       "      <th>gdp_cap</th>\n",
       "      <th>pop</th>\n",
       "      <th>region</th>\n",
       "      <th>continent</th>\n",
       "      <th>geographic area</th>\n",
       "      <th>...</th>\n",
       "      <th>population growth rate</th>\n",
       "      <th>life expectancy at birth</th>\n",
       "      <th>net migration rate</th>\n",
       "      <th>obesity</th>\n",
       "      <th>education expenditures</th>\n",
       "      <th>health expenditures</th>\n",
       "      <th>electricity consumption</th>\n",
       "      <th>oil imports</th>\n",
       "      <th>internet users</th>\n",
       "      <th>military expenditures</th>\n",
       "    </tr>\n",
       "  </thead>\n",
       "  <tbody>\n",
       "    <tr>\n",
       "      <th>903</th>\n",
       "      <td>Switzerland</td>\n",
       "      <td>CHE</td>\n",
       "      <td>1996</td>\n",
       "      <td>7</td>\n",
       "      <td>0</td>\n",
       "      <td>29674.73828</td>\n",
       "      <td>7071850</td>\n",
       "      <td>1</td>\n",
       "      <td>4</td>\n",
       "      <td>NaN</td>\n",
       "      <td>...</td>\n",
       "      <td>NaN</td>\n",
       "      <td>NaN</td>\n",
       "      <td>NaN</td>\n",
       "      <td>NaN</td>\n",
       "      <td>NaN</td>\n",
       "      <td>NaN</td>\n",
       "      <td>NaN</td>\n",
       "      <td>NaN</td>\n",
       "      <td>NaN</td>\n",
       "      <td>NaN</td>\n",
       "    </tr>\n",
       "    <tr>\n",
       "      <th>904</th>\n",
       "      <td>Switzerland</td>\n",
       "      <td>CHE</td>\n",
       "      <td>2000</td>\n",
       "      <td>9</td>\n",
       "      <td>0</td>\n",
       "      <td>34500.07813</td>\n",
       "      <td>7184250</td>\n",
       "      <td>1</td>\n",
       "      <td>4</td>\n",
       "      <td>41290.0</td>\n",
       "      <td>...</td>\n",
       "      <td>0.300</td>\n",
       "      <td>79.60</td>\n",
       "      <td>1.38</td>\n",
       "      <td>NaN</td>\n",
       "      <td>NaN</td>\n",
       "      <td>NaN</td>\n",
       "      <td>5.080000e+10</td>\n",
       "      <td>NaN</td>\n",
       "      <td>NaN</td>\n",
       "      <td>1.20</td>\n",
       "    </tr>\n",
       "    <tr>\n",
       "      <th>905</th>\n",
       "      <td>Switzerland</td>\n",
       "      <td>CHE</td>\n",
       "      <td>2004</td>\n",
       "      <td>5</td>\n",
       "      <td>0</td>\n",
       "      <td>37760.89063</td>\n",
       "      <td>7389625</td>\n",
       "      <td>1</td>\n",
       "      <td>4</td>\n",
       "      <td>41290.0</td>\n",
       "      <td>...</td>\n",
       "      <td>0.540</td>\n",
       "      <td>80.31</td>\n",
       "      <td>4.05</td>\n",
       "      <td>NaN</td>\n",
       "      <td>NaN</td>\n",
       "      <td>NaN</td>\n",
       "      <td>5.343000e+10</td>\n",
       "      <td>289500.0</td>\n",
       "      <td>2556000.0</td>\n",
       "      <td>1.00</td>\n",
       "    </tr>\n",
       "    <tr>\n",
       "      <th>906</th>\n",
       "      <td>Switzerland</td>\n",
       "      <td>CHE</td>\n",
       "      <td>2008</td>\n",
       "      <td>7</td>\n",
       "      <td>0</td>\n",
       "      <td>50438.76172</td>\n",
       "      <td>7647675</td>\n",
       "      <td>1</td>\n",
       "      <td>4</td>\n",
       "      <td>41290.0</td>\n",
       "      <td>...</td>\n",
       "      <td>0.329</td>\n",
       "      <td>80.74</td>\n",
       "      <td>2.21</td>\n",
       "      <td>NaN</td>\n",
       "      <td>5.8</td>\n",
       "      <td>NaN</td>\n",
       "      <td>5.877000e+10</td>\n",
       "      <td>274900.0</td>\n",
       "      <td>4610000.0</td>\n",
       "      <td>1.00</td>\n",
       "    </tr>\n",
       "    <tr>\n",
       "      <th>907</th>\n",
       "      <td>Switzerland</td>\n",
       "      <td>CHE</td>\n",
       "      <td>2012</td>\n",
       "      <td>4</td>\n",
       "      <td>0</td>\n",
       "      <td>57205.37109</td>\n",
       "      <td>7996861</td>\n",
       "      <td>1</td>\n",
       "      <td>4</td>\n",
       "      <td>41277.0</td>\n",
       "      <td>...</td>\n",
       "      <td>0.920</td>\n",
       "      <td>81.17</td>\n",
       "      <td>1.27</td>\n",
       "      <td>8.2</td>\n",
       "      <td>5.2</td>\n",
       "      <td>11.3</td>\n",
       "      <td>5.780000e+10</td>\n",
       "      <td>258200.0</td>\n",
       "      <td>6152000.0</td>\n",
       "      <td>1.00</td>\n",
       "    </tr>\n",
       "    <tr>\n",
       "      <th>908</th>\n",
       "      <td>Switzerland</td>\n",
       "      <td>CHE</td>\n",
       "      <td>2016</td>\n",
       "      <td>7</td>\n",
       "      <td>0</td>\n",
       "      <td>59916.48828</td>\n",
       "      <td>8385614</td>\n",
       "      <td>1</td>\n",
       "      <td>4</td>\n",
       "      <td>41277.0</td>\n",
       "      <td>...</td>\n",
       "      <td>0.780</td>\n",
       "      <td>82.39</td>\n",
       "      <td>5.43</td>\n",
       "      <td>17.5</td>\n",
       "      <td>5.2</td>\n",
       "      <td>10.9</td>\n",
       "      <td>5.897000e+10</td>\n",
       "      <td>258200.0</td>\n",
       "      <td>6152000.0</td>\n",
       "      <td>0.76</td>\n",
       "    </tr>\n",
       "  </tbody>\n",
       "</table>\n",
       "<p>6 rows × 27 columns</p>\n",
       "</div>"
      ],
      "text/plain": [
       "         country iso3  year  medals  host      gdp_cap      pop  region  \\\n",
       "903  Switzerland  CHE  1996       7     0  29674.73828  7071850       1   \n",
       "904  Switzerland  CHE  2000       9     0  34500.07813  7184250       1   \n",
       "905  Switzerland  CHE  2004       5     0  37760.89063  7389625       1   \n",
       "906  Switzerland  CHE  2008       7     0  50438.76172  7647675       1   \n",
       "907  Switzerland  CHE  2012       4     0  57205.37109  7996861       1   \n",
       "908  Switzerland  CHE  2016       7     0  59916.48828  8385614       1   \n",
       "\n",
       "     continent  geographic area          ...            \\\n",
       "903          4              NaN          ...             \n",
       "904          4          41290.0          ...             \n",
       "905          4          41290.0          ...             \n",
       "906          4          41290.0          ...             \n",
       "907          4          41277.0          ...             \n",
       "908          4          41277.0          ...             \n",
       "\n",
       "     population growth rate  life expectancy at birth  net migration rate  \\\n",
       "903                     NaN                       NaN                 NaN   \n",
       "904                   0.300                     79.60                1.38   \n",
       "905                   0.540                     80.31                4.05   \n",
       "906                   0.329                     80.74                2.21   \n",
       "907                   0.920                     81.17                1.27   \n",
       "908                   0.780                     82.39                5.43   \n",
       "\n",
       "     obesity  education expenditures  health expenditures  \\\n",
       "903      NaN                     NaN                  NaN   \n",
       "904      NaN                     NaN                  NaN   \n",
       "905      NaN                     NaN                  NaN   \n",
       "906      NaN                     5.8                  NaN   \n",
       "907      8.2                     5.2                 11.3   \n",
       "908     17.5                     5.2                 10.9   \n",
       "\n",
       "     electricity consumption  oil imports  internet users  \\\n",
       "903                      NaN          NaN             NaN   \n",
       "904             5.080000e+10          NaN             NaN   \n",
       "905             5.343000e+10     289500.0       2556000.0   \n",
       "906             5.877000e+10     274900.0       4610000.0   \n",
       "907             5.780000e+10     258200.0       6152000.0   \n",
       "908             5.897000e+10     258200.0       6152000.0   \n",
       "\n",
       "     military expenditures  \n",
       "903                    NaN  \n",
       "904                   1.20  \n",
       "905                   1.00  \n",
       "906                   1.00  \n",
       "907                   1.00  \n",
       "908                   0.76  \n",
       "\n",
       "[6 rows x 27 columns]"
      ]
     },
     "execution_count": 27,
     "metadata": {},
     "output_type": "execute_result"
    }
   ],
   "source": [
    "che = olympia[olympia[\"iso3\"] == \"CHE\"]\n",
    "che"
   ]
  },
  {
   "cell_type": "code",
   "execution_count": 57,
   "metadata": {
    "collapsed": false
   },
   "outputs": [
    {
     "data": {
      "text/plain": [
       "<matplotlib.axes._subplots.AxesSubplot at 0x10e163a90>"
      ]
     },
     "execution_count": 57,
     "metadata": {},
     "output_type": "execute_result"
    },
    {
     "data": {
      "image/png": "[encoded data removed]",
      "text/plain": [
       "<matplotlib.figure.Figure at 0x10e29eba8>"
      ]
     },
     "metadata": {},
     "output_type": "display_data"
    }
   ],
   "source": [
    "che.index = che[\"year\"]\n",
    "che[\"medals\"].plot()"
   ]
  },
  {
   "cell_type": "code",
   "execution_count": 62,
   "metadata": {
    "collapsed": false
   },
   "outputs": [
    {
     "name": "stdout",
     "output_type": "stream",
     "text": [
      "Switzerland got a median of 7 medals\n"
     ]
    }
   ],
   "source": [
    "print(\"Switzerland got a median of %i medals\" % np.median(che[\"medals\"]))"
   ]
  },
  {
   "cell_type": "markdown",
   "metadata": {},
   "source": [
    "Does this mean Switzerland is above / below average (median)? "
   ]
  },
  {
   "cell_type": "code",
   "execution_count": 35,
   "metadata": {
    "collapsed": false
   },
   "outputs": [
    {
     "name": "stdout",
     "output_type": "stream",
     "text": [
      "the median number of medals for all years is 0\n"
     ]
    }
   ],
   "source": [
    "print(\"the median number of medals for all years is %i\" %np.median(olympia[\"medals\"]))"
   ]
  },
  {
   "cell_type": "markdown",
   "metadata": {},
   "source": [
    "Does this mean Switzerland is above/below average (median)? --> need median for each country"
   ]
  },
  {
   "cell_type": "code",
   "execution_count": 44,
   "metadata": {
    "collapsed": false
   },
   "outputs": [
    {
     "data": {
      "text/html": [
       "<div>\n",
       "<table border=\"1\" class=\"dataframe\">\n",
       "  <thead>\n",
       "    <tr style=\"text-align: right;\">\n",
       "      <th></th>\n",
       "      <th>medals</th>\n",
       "    </tr>\n",
       "    <tr>\n",
       "      <th>country</th>\n",
       "      <th></th>\n",
       "    </tr>\n",
       "  </thead>\n",
       "  <tbody>\n",
       "    <tr>\n",
       "      <th>Afghanistan</th>\n",
       "      <td>1.0</td>\n",
       "    </tr>\n",
       "    <tr>\n",
       "      <th>Albania</th>\n",
       "      <td>0.0</td>\n",
       "    </tr>\n",
       "    <tr>\n",
       "      <th>Algeria</th>\n",
       "      <td>2.0</td>\n",
       "    </tr>\n",
       "    <tr>\n",
       "      <th>Antigua and Barbuda</th>\n",
       "      <td>0.0</td>\n",
       "    </tr>\n",
       "    <tr>\n",
       "      <th>Armenia</th>\n",
       "      <td>3.0</td>\n",
       "    </tr>\n",
       "  </tbody>\n",
       "</table>\n",
       "</div>"
      ],
      "text/plain": [
       "                     medals\n",
       "country                    \n",
       "Afghanistan             1.0\n",
       "Albania                 0.0\n",
       "Algeria                 2.0\n",
       "Antigua and Barbuda     0.0\n",
       "Armenia                 3.0"
      ]
     },
     "execution_count": 44,
     "metadata": {},
     "output_type": "execute_result"
    }
   ],
   "source": [
    "per_country = p.DataFrame(olympia.groupby(\"country\")[\"medals\"].agg(np.median))\n",
    "per_country[:5]"
   ]
  },
  {
   "cell_type": "markdown",
   "metadata": {},
   "source": [
    "Let's look at how these numbers are distributed"
   ]
  },
  {
   "cell_type": "code",
   "execution_count": 52,
   "metadata": {
    "collapsed": false
   },
   "outputs": [
    {
     "data": {
      "text/plain": [
       "<matplotlib.axes._subplots.AxesSubplot at 0x10c678b00>"
      ]
     },
     "execution_count": 52,
     "metadata": {},
     "output_type": "execute_result"
    },
    {
     "data": {
      "image/png": "[encoded data removed]",
      "text/plain": [
       "<matplotlib.figure.Figure at 0x10c79f208>"
      ]
     },
     "metadata": {},
     "output_type": "display_data"
    }
   ],
   "source": [
    "per_country[\"medals\"].hist(bins=30)"
   ]
  },
  {
   "cell_type": "markdown",
   "metadata": {},
   "source": [
    "most countries have 0 medals.. So, does CH score more medals than average? "
   ]
  },
  {
   "cell_type": "markdown",
   "metadata": {},
   "source": [
    "ok, of all the countries that did win a medal. How did CHE fare there? "
   ]
  },
  {
   "cell_type": "code",
   "execution_count": 55,
   "metadata": {
    "collapsed": false
   },
   "outputs": [
    {
     "data": {
      "text/plain": [
       "5.0"
      ]
     },
     "execution_count": 55,
     "metadata": {},
     "output_type": "execute_result"
    }
   ],
   "source": [
    "np.median(per_country[per_country[\"medals\"] > 0][\"medals\"])"
   ]
  },
  {
   "cell_type": "markdown",
   "metadata": {},
   "source": [
    "Looks like CHE wasn't that bad."
   ]
  },
  {
   "cell_type": "markdown",
   "metadata": {},
   "source": [
    "### Assignment"
   ]
  },
  {
   "cell_type": "markdown",
   "metadata": {},
   "source": [
    "Which country got most medals in average? hint: to sort elements: use the sort() method. "
   ]
  },
  {
   "cell_type": "markdown",
   "metadata": {},
   "source": [
    "### Assignment 2"
   ]
  },
  {
   "cell_type": "markdown",
   "metadata": {},
   "source": [
    "how many medals were distributed per year? plot it as shown below"
   ]
  },
  {
   "cell_type": "code",
   "execution_count": 66,
   "metadata": {
    "collapsed": false
   },
   "outputs": [
    {
     "data": {
      "text/plain": [
       "<matplotlib.axes._subplots.AxesSubplot at 0x10e3841d0>"
      ]
     },
     "execution_count": 66,
     "metadata": {},
     "output_type": "execute_result"
    },
    {
     "data": {
      "image/png": "[encoded data removed]",
      "text/plain": [
       "<matplotlib.figure.Figure at 0x10ca4c550>"
      ]
     },
     "metadata": {},
     "output_type": "display_data"
    }
   ],
   "source": []
  },
  {
   "cell_type": "code",
   "execution_count": 67,
   "metadata": {
    "collapsed": true
   },
   "outputs": [],
   "source": [
    "# your code goes here"
   ]
  }
 ],
 "metadata": {
  "kernelspec": {
   "display_name": "Python 3",
   "language": "python",
   "name": "python3"
  },
  "language_info": {
   "codemirror_mode": {
    "name": "ipython",
    "version": 3
   },
   "file_extension": ".py",
   "mimetype": "text/x-python",
   "name": "python",
   "nbconvert_exporter": "python",
   "pygments_lexer": "ipython3",
   "version": "3.5.1"
  }
 },
 "nbformat": 4,
 "nbformat_minor": 0
}
